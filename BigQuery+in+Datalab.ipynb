{
 "cells": [
  {
   "cell_type": "markdown",
   "metadata": {},
   "source": [
    "<H1><center>BigQuery Datalab Notebook</center></H1>"
   ]
  },
  {
   "cell_type": "markdown",
   "metadata": {},
   "source": [
    "The goal of this notebook is to iterate how BigQuery can be currently used in Datalab and list pros and cons of each approach.\n",
    "\n",
    "We will be running a simple query to find the hight weight of new born twins in the public natality table in BigQuery:"
   ]
  },
  {
   "cell_type": "code",
   "execution_count": 78,
   "metadata": {
    "collapsed": true
   },
   "outputs": [],
   "source": [
    "PROJECT_ID = 'bigquery-test-project-166321'\n",
    "QUERY = \"SELECT mother_age,is_male,weight_pounds FROM [bigquery-public-data:samples.natality] WHERE plurality = 2 ORDER BY weight_pounds DESC, mother_age limit 10\""
   ]
  },
  {
   "cell_type": "markdown",
   "metadata": {},
   "source": [
    "<H2> BigQuery's Official Client<H2>"
   ]
  },
  {
   "cell_type": "code",
   "execution_count": 38,
   "metadata": {
    "collapsed": false
   },
   "outputs": [],
   "source": [
    "from google.cloud import bigquery\n"
   ]
  },
  {
   "cell_type": "code",
   "execution_count": 46,
   "metadata": {
    "collapsed": false
   },
   "outputs": [
    {
     "name": "stdout",
     "output_type": "stream",
     "text": [
      "[(23, 18.0007436923), (30, 18.0007436923), (28, 18.0007436923), (28, 18.0007436923), (33, 18.0007436923), (27, 18.0007436923), (18, 18.0007436923), (28, 18.0007436923), (25, 18.0007436923), (22, 18.0007436923)]\n"
     ]
    }
   ],
   "source": [
    "client = bigquery.Client(project=PROJECT_ID)\n",
    "\n",
    "query = client.run_sync_query(QUERY)\n",
    "query.timeout_ms = 10000\n",
    "query.run()\n",
    "\n",
    "assert query.complete\n",
    "rows = query.rows\n",
    "token = query.page_token\n",
    "\n",
    "while True:\n",
    "    print rows\n",
    "    if token is None:\n",
    "        break\n",
    "    rows, total_count, token = query.fetch_data(page_token=token)       # API request"
   ]
  },
  {
   "cell_type": "markdown",
   "metadata": {},
   "source": [
    "<b>- Pros:</b>\n",
    "  Familiar to BigQuery users (?)\n",
    "  \n",
    "<b>- Cons:</b>\n",
    "  No Datalab/Pandas integration.\n",
    "  Probably harder to fork and change (and maintain).\n"
   ]
  },
  {
   "cell_type": "markdown",
   "metadata": {},
   "source": [
    "<H2>Datalab's BigQuery Module</H2>"
   ]
  },
  {
   "cell_type": "markdown",
   "metadata": {},
   "source": [
    "To get Pandas integration, we could use Datalab's BigQuery module."
   ]
  },
  {
   "cell_type": "code",
   "execution_count": 80,
   "metadata": {
    "collapsed": false
   },
   "outputs": [
    {
     "data": {
      "text/html": [
       "<div>\n",
       "<table border=\"1\" class=\"dataframe\">\n",
       "  <thead>\n",
       "    <tr style=\"text-align: right;\">\n",
       "      <th></th>\n",
       "      <th>mother_age</th>\n",
       "      <th>is_male</th>\n",
       "      <th>weight_pounds</th>\n",
       "    </tr>\n",
       "  </thead>\n",
       "  <tbody>\n",
       "    <tr>\n",
       "      <th>0</th>\n",
       "      <td>23</td>\n",
       "      <td>True</td>\n",
       "      <td>17.769258</td>\n",
       "    </tr>\n",
       "    <tr>\n",
       "      <th>1</th>\n",
       "      <td>19</td>\n",
       "      <td>False</td>\n",
       "      <td>17.636981</td>\n",
       "    </tr>\n",
       "    <tr>\n",
       "      <th>2</th>\n",
       "      <td>21</td>\n",
       "      <td>True</td>\n",
       "      <td>17.636981</td>\n",
       "    </tr>\n",
       "    <tr>\n",
       "      <th>3</th>\n",
       "      <td>27</td>\n",
       "      <td>False</td>\n",
       "      <td>17.562024</td>\n",
       "    </tr>\n",
       "    <tr>\n",
       "      <th>4</th>\n",
       "      <td>21</td>\n",
       "      <td>True</td>\n",
       "      <td>17.416519</td>\n",
       "    </tr>\n",
       "    <tr>\n",
       "      <th>5</th>\n",
       "      <td>16</td>\n",
       "      <td>False</td>\n",
       "      <td>17.352585</td>\n",
       "    </tr>\n",
       "    <tr>\n",
       "      <th>6</th>\n",
       "      <td>31</td>\n",
       "      <td>False</td>\n",
       "      <td>17.306288</td>\n",
       "    </tr>\n",
       "    <tr>\n",
       "      <th>7</th>\n",
       "      <td>26</td>\n",
       "      <td>True</td>\n",
       "      <td>17.145350</td>\n",
       "    </tr>\n",
       "    <tr>\n",
       "      <th>8</th>\n",
       "      <td>26</td>\n",
       "      <td>True</td>\n",
       "      <td>17.145350</td>\n",
       "    </tr>\n",
       "    <tr>\n",
       "      <th>9</th>\n",
       "      <td>16</td>\n",
       "      <td>False</td>\n",
       "      <td>16.977799</td>\n",
       "    </tr>\n",
       "  </tbody>\n",
       "</table>\n",
       "</div>"
      ],
      "text/plain": [
       "   mother_age is_male  weight_pounds\n",
       "0          23    True      17.769258\n",
       "1          19   False      17.636981\n",
       "2          21    True      17.636981\n",
       "3          27   False      17.562024\n",
       "4          21    True      17.416519\n",
       "5          16   False      17.352585\n",
       "6          31   False      17.306288\n",
       "7          26    True      17.145350\n",
       "8          26    True      17.145350\n",
       "9          16   False      16.977799"
      ]
     },
     "execution_count": 80,
     "metadata": {},
     "output_type": "execute_result"
    }
   ],
   "source": [
    "import google.datalab.bigquery as bq\n",
    "\n",
    "# The QUERY listed in the first cell does not work in datalab for some formatting reason.\n",
    "QUERY_FOR_DATALAB = \"SELECT mother_age,is_male,weight_pounds FROM publicdata.samples.natality WHERE plurality = 2 ORDER BY weight_pounds DESC, mother_age limit 10\"\n",
    "df = bq.Query(QUERY_FOR_DATALAB).execute().result().to_dataframe()\n",
    "df"
   ]
  },
  {
   "cell_type": "markdown",
   "metadata": {},
   "source": [
    "This is how the same thing can be done using magics"
   ]
  },
  {
   "cell_type": "code",
   "execution_count": 101,
   "metadata": {
    "collapsed": false
   },
   "outputs": [
    {
     "data": {
      "text/html": [
       "\n",
       "    <div class=\"bqtv\" id=\"1_149402601010\"><table><tr><th>mother_age</th><th>is_male</th><th>weight_pounds</th></tr><tr><td>23</td><td>True</td><td>17.7692583172</td></tr><tr><td>19</td><td>False</td><td>17.63698096</td></tr><tr><td>21</td><td>True</td><td>17.63698096</td></tr><tr><td>27</td><td>False</td><td>17.5620237909</td></tr><tr><td>21</td><td>True</td><td>17.416518698</td></tr><tr><td>16</td><td>False</td><td>17.352584642</td></tr><tr><td>31</td><td>False</td><td>17.306287567</td></tr><tr><td>26</td><td>True</td><td>17.1453501157</td></tr><tr><td>26</td><td>True</td><td>17.1453501157</td></tr><tr><td>16</td><td>False</td><td>16.9777987966</td></tr></table></div>\n",
       "    <br />(rows: 10, time: 0.7s, cached, job: job_j86mP4sUJtwndjYPVN4ydKkgIgs)<br />\n",
       "    <script>\n",
       "\n",
       "      require.config({\n",
       "        paths: {\n",
       "          d3: '//cdnjs.cloudflare.com/ajax/libs/d3/3.4.13/d3',\n",
       "          plotly: 'https://cdn.plot.ly/plotly-1.5.1.min.js?noext',\n",
       "          jquery: '//ajax.googleapis.com/ajax/libs/jquery/2.0.0/jquery.min'\n",
       "        },\n",
       "        map: {\n",
       "          '*': {\n",
       "            datalab: 'nbextensions/gcpdatalab'\n",
       "          }\n",
       "        },\n",
       "        shim: {\n",
       "          plotly: {\n",
       "            deps: ['d3', 'jquery'],\n",
       "            exports: 'plotly'\n",
       "          }\n",
       "        }\n",
       "      });\n",
       "\n",
       "      require(['datalab/charting', 'datalab/element!1_149402601010', 'base/js/events',\n",
       "          'datalab/style!/nbextensions/gcpdatalab/charting.css'],\n",
       "        function(charts, dom, events) {\n",
       "          charts.render('gcharts', dom, events, 'table', [], {\"rows\": [{\"c\": [{\"v\": 23}, {\"v\": true}, {\"v\": 17.7692583172}]}, {\"c\": [{\"v\": 19}, {\"v\": false}, {\"v\": 17.63698096}]}, {\"c\": [{\"v\": 21}, {\"v\": true}, {\"v\": 17.63698096}]}, {\"c\": [{\"v\": 27}, {\"v\": false}, {\"v\": 17.562023790919998}]}, {\"c\": [{\"v\": 21}, {\"v\": true}, {\"v\": 17.416518698}]}, {\"c\": [{\"v\": 16}, {\"v\": false}, {\"v\": 17.35258464202}]}, {\"c\": [{\"v\": 31}, {\"v\": false}, {\"v\": 17.306287567}]}, {\"c\": [{\"v\": 26}, {\"v\": true}, {\"v\": 17.14535011574}]}, {\"c\": [{\"v\": 26}, {\"v\": true}, {\"v\": 17.14535011574}]}, {\"c\": [{\"v\": 16}, {\"v\": false}, {\"v\": 16.97779879662}]}], \"cols\": [{\"type\": \"number\", \"id\": \"mother_age\", \"label\": \"mother_age\"}, {\"type\": \"boolean\", \"id\": \"is_male\", \"label\": \"is_male\"}, {\"type\": \"number\", \"id\": \"weight_pounds\", \"label\": \"weight_pounds\"}]},\n",
       "            {\n",
       "              pageSize: 25,\n",
       "              cssClassNames:  {\n",
       "                tableRow: 'gchart-table-row',\n",
       "                headerRow: 'gchart-table-headerrow',\n",
       "                oddTableRow: 'gchart-table-oddrow',\n",
       "                selectedTableRow: 'gchart-table-selectedrow',\n",
       "                hoverTableRow: 'gchart-table-hoverrow',\n",
       "                tableCell: 'gchart-table-cell',\n",
       "                headerCell: 'gchart-table-headercell',\n",
       "                rowNumberCell: 'gchart-table-rownumcell'\n",
       "              }\n",
       "            },\n",
       "            {source_index: 0, fields: 'mother_age,is_male,weight_pounds', legacy: 'true'},\n",
       "            0,\n",
       "            10);\n",
       "        }\n",
       "      );\n",
       "    </script>\n",
       "  "
      ],
      "text/plain": [
       "QueryResultsTable job_j86mP4sUJtwndjYPVN4ydKkgIgs"
      ]
     },
     "execution_count": 101,
     "metadata": {},
     "output_type": "execute_result"
    }
   ],
   "source": [
    "%%bigquery execute -q QUERY"
   ]
  },
  {
   "cell_type": "markdown",
   "metadata": {},
   "source": [
    "<b>- Pros:</b>\n",
    "  Magic support.\n",
    "  \n",
    "<b>- Cons:</b>\n",
    "  Limited to Datalab.\n",
    "  \n",
    "<b> How to implement: </b> The best way to customize this library is to fork the code in https://github.com/googledatalab/pydatalab and add our own features (for ML). Then ask users to 'pip install' the new package which will automatically replace the default version of this package in Datalab."
   ]
  },
  {
   "cell_type": "markdown",
   "metadata": {},
   "source": [
    "<H2>Pandas Bigquery Module</H2>\n",
    "\n",
    "Finally, we could directly use BigQuery module from Pandas."
   ]
  },
  {
   "cell_type": "code",
   "execution_count": 98,
   "metadata": {
    "collapsed": false
   },
   "outputs": [
    {
     "name": "stdout",
     "output_type": "stream",
     "text": [
      "Requesting query... ok.\n",
      "Query running...\n",
      "Query done.\n",
      "Cache hit.\n",
      "\n",
      "Retrieving results...\n",
      "Got 10 rows.\n",
      "\n",
      "Total time taken 0.75 s.\n",
      "Finished at 2017-05-05 23:10:59.\n"
     ]
    },
    {
     "data": {
      "text/html": [
       "<div>\n",
       "<table border=\"1\" class=\"dataframe\">\n",
       "  <thead>\n",
       "    <tr style=\"text-align: right;\">\n",
       "      <th></th>\n",
       "      <th>mother_age</th>\n",
       "      <th>is_male</th>\n",
       "      <th>weight_pounds</th>\n",
       "    </tr>\n",
       "  </thead>\n",
       "  <tbody>\n",
       "    <tr>\n",
       "      <th>0</th>\n",
       "      <td>23</td>\n",
       "      <td>True</td>\n",
       "      <td>17.769258</td>\n",
       "    </tr>\n",
       "    <tr>\n",
       "      <th>1</th>\n",
       "      <td>19</td>\n",
       "      <td>False</td>\n",
       "      <td>17.636981</td>\n",
       "    </tr>\n",
       "    <tr>\n",
       "      <th>2</th>\n",
       "      <td>21</td>\n",
       "      <td>True</td>\n",
       "      <td>17.636981</td>\n",
       "    </tr>\n",
       "    <tr>\n",
       "      <th>3</th>\n",
       "      <td>27</td>\n",
       "      <td>False</td>\n",
       "      <td>17.562024</td>\n",
       "    </tr>\n",
       "    <tr>\n",
       "      <th>4</th>\n",
       "      <td>21</td>\n",
       "      <td>True</td>\n",
       "      <td>17.416519</td>\n",
       "    </tr>\n",
       "    <tr>\n",
       "      <th>5</th>\n",
       "      <td>16</td>\n",
       "      <td>False</td>\n",
       "      <td>17.352585</td>\n",
       "    </tr>\n",
       "    <tr>\n",
       "      <th>6</th>\n",
       "      <td>31</td>\n",
       "      <td>False</td>\n",
       "      <td>17.306288</td>\n",
       "    </tr>\n",
       "    <tr>\n",
       "      <th>7</th>\n",
       "      <td>26</td>\n",
       "      <td>True</td>\n",
       "      <td>17.145350</td>\n",
       "    </tr>\n",
       "    <tr>\n",
       "      <th>8</th>\n",
       "      <td>26</td>\n",
       "      <td>True</td>\n",
       "      <td>17.145350</td>\n",
       "    </tr>\n",
       "    <tr>\n",
       "      <th>9</th>\n",
       "      <td>16</td>\n",
       "      <td>False</td>\n",
       "      <td>16.977799</td>\n",
       "    </tr>\n",
       "  </tbody>\n",
       "</table>\n",
       "</div>"
      ],
      "text/plain": [
       "   mother_age is_male  weight_pounds\n",
       "0          23    True      17.769258\n",
       "1          19   False      17.636981\n",
       "2          21    True      17.636981\n",
       "3          27   False      17.562024\n",
       "4          21    True      17.416519\n",
       "5          16   False      17.352585\n",
       "6          31   False      17.306288\n",
       "7          26    True      17.145350\n",
       "8          26    True      17.145350\n",
       "9          16   False      16.977799"
      ]
     },
     "execution_count": 98,
     "metadata": {},
     "output_type": "execute_result"
    }
   ],
   "source": [
    "import pandas as pd\n",
    " \n",
    "# to communicate with Google BigQuery\n",
    "from pandas.io import gbq\n",
    "\n",
    "try:\n",
    "    top10_baby_df = gbq.read_gbq(QUERY, project_id=PROJECT_ID)\n",
    "except:\n",
    "    print 'Error reading the dataset'\n",
    "    \n",
    "top10_baby_df"
   ]
  },
  {
   "cell_type": "markdown",
   "metadata": {},
   "source": [
    "<b>- Pros:</b>\n",
    "  Having a wrapper around this library (or forking the library) will give us maximum flexibility, since people who use the library outside of bq will also have access to the new features.\n",
    "  \n",
    "<b>- Cons:</b>\n",
    "  No support for BigQuery magics.\n",
    "  \n",
    "<b> How to implement: </b> We can customize in the same way as we discussed for the Datalab's Bigquery module. The code that we need to fork is https://github.com/pydata/pandas-gbq"
   ]
  },
  {
   "cell_type": "markdown",
   "metadata": {},
   "source": [
    "<H2> Summary </H2>"
   ]
  },
  {
   "cell_type": "markdown",
   "metadata": {},
   "source": [
    "Given the discussions above, I think using BigQuery client is probably is not the best idea. We should decide between direct Pandas or Datalab integration. I personally vote for Pandas integration."
   ]
  }
 ],
 "metadata": {
  "kernelspec": {
   "display_name": "Python 2",
   "language": "python",
   "name": "python2"
  },
  "language_info": {
   "codemirror_mode": {
    "name": "ipython",
    "version": 2
   },
   "file_extension": ".py",
   "mimetype": "text/x-python",
   "name": "python",
   "nbconvert_exporter": "python",
   "pygments_lexer": "ipython2",
   "version": "2.7.9"
  }
 },
 "nbformat": 4,
 "nbformat_minor": 2
}
